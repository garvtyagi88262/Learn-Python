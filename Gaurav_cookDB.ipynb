{
  "cells": [
    {
      "cell_type": "markdown",
      "metadata": {
        "id": "view-in-github",
        "colab_type": "text"
      },
      "source": [
        "<a href=\"https://colab.research.google.com/github/garvtyagi88262/Learn-Python/blob/main/Gaurav_cookDB.ipynb\" target=\"_parent\"><img src=\"https://colab.research.google.com/assets/colab-badge.svg\" alt=\"Open In Colab\"/></a>"
      ]
    },
    {
      "cell_type": "markdown",
      "metadata": {
        "id": "i2whkX-u7U_O"
      },
      "source": [
        "### VideoDB QuickStart\n",
        "\n",
        "<a href=\"https://colab.research.google.com/github/video-db/videodb-cookbook/blob/main/quickstart/quickstart.ipynb\" target=\"_parent\"><img src=\"https://colab.research.google.com/assets/colab-badge.svg\" alt=\"Open In Colab\"/></a>\n",
        "\n",
        "This notebook is designed to help you get started with [VideoDB](https://videodb.io)."
      ]
    },
    {
      "cell_type": "markdown",
      "metadata": {
        "id": "j3tyGC3h7U_Q"
      },
      "source": [
        "<div style=\"height:40px;\"></div>\n",
        "\n",
        "### Setup\n",
        "---  "
      ]
    },
    {
      "cell_type": "markdown",
      "metadata": {
        "id": "84MjdiwL7U_Q"
      },
      "source": [
        "\n",
        "##### 🔧 Installing VideoDB in your environment\n",
        "\n",
        "VideoDB is available as [python package 📦](https://pypi.org/project/videodb)  "
      ]
    },
    {
      "cell_type": "code",
      "execution_count": 5,
      "metadata": {
        "id": "efWKZtSf7U_Q",
        "outputId": "875b5ffc-8168-4896-fc79-303af37543c1",
        "colab": {
          "base_uri": "https://localhost:8080/"
        }
      },
      "outputs": [
        {
          "output_type": "stream",
          "name": "stdout",
          "text": [
            "Requirement already satisfied: videodb in /usr/local/lib/python3.10/dist-packages (0.0.3)\n",
            "Requirement already satisfied: requests>=2.25.1 in /usr/local/lib/python3.10/dist-packages (from videodb) (2.31.0)\n",
            "Requirement already satisfied: backoff>=2.2.1 in /usr/local/lib/python3.10/dist-packages (from videodb) (2.2.1)\n",
            "Requirement already satisfied: tqdm>=4.66.1 in /usr/local/lib/python3.10/dist-packages (from videodb) (4.66.1)\n",
            "Requirement already satisfied: charset-normalizer<4,>=2 in /usr/local/lib/python3.10/dist-packages (from requests>=2.25.1->videodb) (3.3.2)\n",
            "Requirement already satisfied: idna<4,>=2.5 in /usr/local/lib/python3.10/dist-packages (from requests>=2.25.1->videodb) (3.6)\n",
            "Requirement already satisfied: urllib3<3,>=1.21.1 in /usr/local/lib/python3.10/dist-packages (from requests>=2.25.1->videodb) (2.0.7)\n",
            "Requirement already satisfied: certifi>=2017.4.17 in /usr/local/lib/python3.10/dist-packages (from requests>=2.25.1->videodb) (2023.11.17)\n"
          ]
        }
      ],
      "source": [
        "!pip install videodb"
      ]
    },
    {
      "cell_type": "markdown",
      "metadata": {
        "id": "TXqvmQFB7U_R"
      },
      "source": [
        "##### 🔗 Setting Up a connection to db\n",
        "To connect to VideoDB, simply create a `Connection` object.\n",
        "\n",
        "This can be done by either providing your VideoDB API key directly to the constructor or by setting the `VIDEO_DB_API_KEY` environment variable with your API key.\n",
        "\n",
        ">💡\n",
        ">Get your API key from [VideoDB Console](https://console.videodb.io). ( Free for first 50 uploads, No credit card required ) 🎉."
      ]
    },
    {
      "cell_type": "code",
      "execution_count": 6,
      "metadata": {
        "id": "5qZWb2nh7U_R"
      },
      "outputs": [],
      "source": [
        "from videodb import connect, play_stream\n",
        "conn = connect(api_key=\"\")"
      ]
    },
    {
      "cell_type": "markdown",
      "metadata": {
        "id": "lec95fCA7U_R"
      },
      "source": [
        "<div style=\"height:40px;\"></div>\n",
        "\n",
        "### Working with a single Video\n",
        "---"
      ]
    },
    {
      "cell_type": "markdown",
      "metadata": {
        "id": "Oq7oRFHA7U_S"
      },
      "source": [
        "<div style=\"height:10px;\"></div>\n",
        "\n",
        "##### ⬆️ Uploading a video\n",
        "Now that you have established a connection to VideoDB, you can now upload your videos using `conn.upload()`.\n",
        "\n",
        "You can upload your media by a `url` or from your `local file system`\n",
        "\n",
        "`upload` returns a `Video` Object, which can be used to access video"
      ]
    },
    {
      "cell_type": "code",
      "execution_count": 7,
      "metadata": {
        "id": "kaw340QS7U_S"
      },
      "outputs": [],
      "source": [
        "#Upload a video by url\n",
        "vid1 = conn.upload(url=\"https://www.youtube.com/watch?v=0K1pITq4mSk&list=WL&index=1\")"
      ]
    },
    {
      "cell_type": "markdown",
      "metadata": {
        "id": "Yfhr-2W97U_S"
      },
      "source": [
        "<div style=\"background-color: #ffffcc; color: black; padding: 10px; border-radius: 5px;\">\n",
        "VideoDB simplifies your upload by supporting links from Youtube, S3 or any Public URL with video\n",
        "</div>"
      ]
    },
    {
      "cell_type": "markdown",
      "metadata": {
        "id": "WyvCwLli7U_S"
      },
      "source": [
        "<div style=\"height:15px;\"></div>\n",
        "\n",
        "##### 📺 Viewing your video\n",
        "\n",
        "Your video is instantly available for viewing 720p resolution ⚡️\n",
        "\n",
        "* Generate a streamable url for video using `video.generate_stream()`\n",
        "* Preview the video using Video.play(). This will open the video in your default browser/notebook.\n",
        "\n",
        "<div style=\"background-color: #ffffcc; color: black; padding: 10px; border-radius: 5px;\">\n",
        "    <strong>Note:</strong>if you are viewing this notebook on github, you won't be able to see iframe player, because of security restrictions. <br>\n",
        "    Please open the printed link of player in your browser</div>\n"
      ]
    },
    {
      "cell_type": "code",
      "execution_count": 8,
      "metadata": {
        "id": "23gJWYxf7U_S",
        "outputId": "06ed11f2-46d0-4ad9-a088-28a328d1b3e3",
        "colab": {
          "base_uri": "https://localhost:8080/",
          "height": 421
        }
      },
      "outputs": [
        {
          "output_type": "execute_result",
          "data": {
            "text/plain": [
              "<IPython.lib.display.IFrame at 0x78465f784dc0>"
            ],
            "text/html": [
              "\n",
              "        <iframe\n",
              "            width=\"800\"\n",
              "            height=\"400\"\n",
              "            src=\"https://console.videodb.io/player?url=https://stream.videodb.io/v3/published/manifests/ddfd2748-9cbc-4ade-a151-43fd0024730d.m3u8\"\n",
              "            frameborder=\"0\"\n",
              "            allowfullscreen\n",
              "            \n",
              "        ></iframe>\n",
              "        "
            ]
          },
          "metadata": {},
          "execution_count": 8
        }
      ],
      "source": [
        "vid1.generate_stream()\n",
        "vid1.play()"
      ]
    },
    {
      "cell_type": "markdown",
      "metadata": {
        "id": "vpQibReB7U_T"
      },
      "source": [
        "##### ✂️ Get Specific Sections of videos\n",
        "\n",
        "You can easily clip specific sections of a video by passing timeline  of start and end sections. It accepts seconds.   \n",
        "For example Here’s we are streaming only first 10 seconds and then 120 to 140 second of uploaded video"
      ]
    },
    {
      "cell_type": "code",
      "execution_count": 9,
      "metadata": {
        "id": "vsaLjJJR7U_T",
        "outputId": "5937debb-aa75-405a-a752-48cb374563e7",
        "colab": {
          "base_uri": "https://localhost:8080/",
          "height": 421
        }
      },
      "outputs": [
        {
          "output_type": "execute_result",
          "data": {
            "text/plain": [
              "<IPython.lib.display.IFrame at 0x78465f785300>"
            ],
            "text/html": [
              "\n",
              "        <iframe\n",
              "            width=\"800\"\n",
              "            height=\"400\"\n",
              "            src=\"https://console.videodb.io/player?url=https://stream.videodb.io/v3/published/manifests/212b296d-0baa-4f95-8e77-f176e120bad3.m3u8\"\n",
              "            frameborder=\"0\"\n",
              "            allowfullscreen\n",
              "            \n",
              "        ></iframe>\n",
              "        "
            ]
          },
          "metadata": {},
          "execution_count": 9
        }
      ],
      "source": [
        "stream_link = vid1.generate_stream(timeline=[[10,30],[100,140]])\n",
        "play_stream(stream_link)"
      ]
    },
    {
      "cell_type": "markdown",
      "metadata": {
        "id": "v6N3Ae107U_T"
      },
      "source": [
        "<div style=\"height:15px;\"></div>\n",
        "\n",
        "##### 🔍 Searching inside a video\n",
        "To search bits inside a video — you  have to index the video first. This can be done by a simple command.\n",
        "`video.index_spoken_words()`\n",
        "\n",
        "<div style=\"background-color: #ffffcc; color: black; padding: 10px; border-radius: 5px;\">\n",
        "    <strong>Note:</strong>Index may take time for longer videos</div>"
      ]
    },
    {
      "cell_type": "code",
      "execution_count": 10,
      "metadata": {
        "id": "u991kLmF7U_T",
        "colab": {
          "base_uri": "https://localhost:8080/"
        },
        "outputId": "f3b7e2ac-8acc-4c40-d53d-052c7dce3fa8"
      },
      "outputs": [
        {
          "output_type": "stream",
          "name": "stderr",
          "text": [
            "100%|████████████████████████████████████████████████████████████████████████████████████████████████████| 100/100 [00:47<00:00,  2.11it/s]\n"
          ]
        }
      ],
      "source": [
        "vid1.index_spoken_words()"
      ]
    },
    {
      "cell_type": "markdown",
      "metadata": {
        "id": "heYVCTy17U_T"
      },
      "source": [
        "**Searching inside video**:  \n",
        "  \n",
        "Search can peformed on indexed video using `video.search()`"
      ]
    },
    {
      "cell_type": "code",
      "execution_count": 35,
      "metadata": {
        "id": "RfUgi-Vw7U_T",
        "outputId": "b7d8c585-8c43-46c7-ded7-44c244a9b7bf",
        "colab": {
          "base_uri": "https://localhost:8080/",
          "height": 421
        }
      },
      "outputs": [
        {
          "output_type": "execute_result",
          "data": {
            "text/plain": [
              "<IPython.lib.display.IFrame at 0x78463a55f910>"
            ],
            "text/html": [
              "\n",
              "        <iframe\n",
              "            width=\"800\"\n",
              "            height=\"400\"\n",
              "            src=\"https://console.videodb.io/player?url=https://stream.videodb.io/v3/published/manifests/d73af421-a2f3-42d4-aa23-cf0ff907433c.m3u8\"\n",
              "            frameborder=\"0\"\n",
              "            allowfullscreen\n",
              "            \n",
              "        ></iframe>\n",
              "        "
            ]
          },
          "metadata": {},
          "execution_count": 35
        }
      ],
      "source": [
        "result = vid2.search(\"What are the secrets of feel good productivity?\")\n",
        "result.play()"
      ]
    },
    {
      "cell_type": "markdown",
      "metadata": {
        "id": "a-aUvZI17U_T"
      },
      "source": [
        "##### 📺 Viewing Search Results :\n",
        "\n",
        "`video.search()` will return a SearchResults object, which contains the sections/shots of videos which semantically match your search query\n",
        "\n",
        "* `result.get_shots()` - Returns a list of Shot that matched search query\n",
        "* `result.play()`  - This will open the video in your default browser/notebook"
      ]
    },
    {
      "cell_type": "code",
      "source": [
        "result = vid1.search(\"video streaming\")\n",
        "result.get_shots()"
      ],
      "metadata": {
        "id": "_zIaPg_vkyCr",
        "outputId": "fbf3d39d-a80b-4565-adf3-92e9cddc3d83",
        "colab": {
          "base_uri": "https://localhost:8080/"
        }
      },
      "execution_count": 13,
      "outputs": [
        {
          "output_type": "execute_result",
          "data": {
            "text/plain": [
              "[Shot(video_id=m-d286c47a-80bd-4a28-ae77-1d23377da145, video_title=How Nebula Works, start=271.2, end=349.8, text= If the video is stored on a server near you you're one of the privileged people to have access to fast internet, but that isn't always the case and solving those edge cases as we're the smaller Indie streamers, like nebula need to play Smurfs. The primary constraint is fine with while high-speed connections are common in the western world not all users will have fast internet access and even if they do problems can still occur which may lead to degraded performance. A poorly shielded microwave can interfere with Wi-Fi internet service providers may have tampered slowdowns during times of peak usage and going through a Subway tunnel on your morning commute may cause you to lose signal to help combat these inconsistencies. The server will encode the video several times with different bitrates bitrate simply means the speed at which the video will need to be transmitted in order to avoid buffering or pauses. Once the transcoder limits to be traced. It will also need to lower the resolution of the video to keep the overall visual quality of the video watchable low rates combined with high-resolution result in flakka video that is very distracting the transcoder creates files with different bit rates in resolution pairings producing lower-quality smaller files all the way through larger 4K foil., search_score=0.500849068, stream_url=None, player_url=None),\n",
              " Shot(video_id=m-d286c47a-80bd-4a28-ae77-1d23377da145, video_title=How Nebula Works, start=349.4, end=417.1, text= When a video player is streaming a video it isn't downloading the entire file at once. It downloads chunks at a time. This allows for changes in streaming quality during playback. If your internet connection closed down the service can switch to the lower-resolution version of the file on the Fly the video may not look as good but I will keep playing and hopefully switch back later when the connection improves it also allows for starting playback in the middle of the video. If you want to pick up a video where you left off yesterday, there's no need to download the entire file plus since most videos don't get watch to 100% completion this approach also save countless dollars on bandwidth bills for nebulous Starlight system. The team uses fragmented MP4s for this packaging this let's separate the audio files. Video audio requires much smaller file sizes compared to video and Studies have shown that poor audio quality. In fact, the viewer's experience more than poor video quality. In other words a bad sounding video will look worse by separating audio and video., search_score=0.513098061, stream_url=None, player_url=None),\n",
              " Shot(video_id=m-d286c47a-80bd-4a28-ae77-1d23377da145, video_title=How Nebula Works, start=762.8, end=838.6, text= The server sends a list of videos and all of the thumbnails to go with us and the client aprender is goes into some kind of human readable list for you to browse through there a different kinds of apps web apps mobile apps desktop apps TV apps different devices will often require that apps be written in completely separate programming languages like Swift for iOS Scotland for Android or JavaScript in typescript for smart TVs and even incredibly Niche language is like bright script for Roku, which makes hiring even more difficult to confuse matters further. These devices will require the top speed distributed through proprietary app stores with their own approval process has launched on LG smart TV after earlier this year. It took months to get approved on the store and quick updates why we were working on this video LG told us that nebulous lgbtq content was a violation of their content policy on the app needed to be removed in 46 countries. We ask for Clarity on this policy, but we were only told that it was for religious and cultural elements in those countries. We're not really sure why they didn't just remove it themselves., search_score=0.502166331, stream_url=None, player_url=None)]"
            ]
          },
          "metadata": {},
          "execution_count": 13
        }
      ]
    },
    {
      "cell_type": "markdown",
      "metadata": {
        "id": "C0GDRYBr7U_T"
      },
      "source": [
        "##### 🗑️ Cleanup\n",
        "You can delete the video from database using `video.delete()`"
      ]
    },
    {
      "cell_type": "code",
      "execution_count": null,
      "metadata": {
        "id": "8KT2f3Zx7U_T"
      },
      "outputs": [],
      "source": [
        "video.delete()"
      ]
    },
    {
      "cell_type": "markdown",
      "metadata": {
        "id": "QwIVx19v7U_T"
      },
      "source": [
        "<div style=\"height:40px;\"></div>\n",
        "\n",
        "### RAG: Working with Multiple Videos\n",
        "---\n",
        "`VideoDB` can store and search inside multiple videos with ease.  \n",
        "By default, videos are uploaded to your default collection."
      ]
    },
    {
      "cell_type": "markdown",
      "metadata": {
        "id": "eao8-o7U7U_T"
      },
      "source": [
        "<div style=\"height:15px;\"></div>\n",
        "\n",
        "##### 🔄 Using Collection to upload multiple Videos"
      ]
    },
    {
      "cell_type": "code",
      "execution_count": 14,
      "metadata": {
        "id": "ZMz5eSxa7U_T"
      },
      "outputs": [],
      "source": [
        "# Get a collection\n",
        "coll = conn.get_collection()\n",
        "\n",
        "# Upload Videos to a collection\n",
        "vid2 = coll.upload(url=\"https://www.youtube.com/watch?v=OlPO8f-AAJk\")\n",
        "vid3 = coll.upload(url=\"https://www.youtube.com/watch?v=84dYijIpWjQ\")\n",
        "vid4 = coll.upload(url=\"https://www.youtube.com/watch?v=WDv4AWk0J3U\")"
      ]
    },
    {
      "cell_type": "markdown",
      "metadata": {
        "id": "Vmqch53z7U_T"
      },
      "source": [
        "* `conn.get_collection()` : Returns Collection object, the default collection\n",
        "* `coll.get_videos()` : Returns list of Video, all videos in collections\n",
        "* `coll.get_video(video_id)` : Returns Video, respective video object from given video_id\n",
        "* `coll.delete_video(video_id)` : Deletes the video from Collection"
      ]
    },
    {
      "cell_type": "code",
      "source": [
        "conn.get_collection()"
      ],
      "metadata": {
        "id": "Abm8XX307Ghq",
        "outputId": "3bb7924e-eada-4b53-e1e3-ebbe9ff050f8",
        "colab": {
          "base_uri": "https://localhost:8080/"
        }
      },
      "execution_count": 15,
      "outputs": [
        {
          "output_type": "execute_result",
          "data": {
            "text/plain": [
              "<videodb.collection.Collection at 0x78465f74b820>"
            ]
          },
          "metadata": {},
          "execution_count": 15
        }
      ]
    },
    {
      "cell_type": "code",
      "source": [
        "coll.get_videos()"
      ],
      "metadata": {
        "colab": {
          "base_uri": "https://localhost:8080/"
        },
        "id": "8WYXXMlEcXcm",
        "outputId": "e1f9c82f-447b-4443-d6f1-58b1e389f1b0"
      },
      "execution_count": 16,
      "outputs": [
        {
          "output_type": "execute_result",
          "data": {
            "text/plain": [
              "[Video(id=m-173958b7-0c9c-4c04-923f-8047227f46d3, collection_id=c-d61804ee-12e5-4bcc-be64-b78b62429e8c, stream_url=https://stream.videodb.io/v3/published/manifests/d2f5b415-966d-4ac9-b872-43842ab49406.m3u8, player_url=https://console.videodb.io/player?url=https://stream.videodb.io/v3/published/manifests/d2f5b415-966d-4ac9-b872-43842ab49406.m3u8, name=How to Feel Energized & Sleep Better With One Morning Activity | Dr. Andrew Huberman, description=None, thumbnail_url=None, length=391.929615),\n",
              " Video(id=m-317bd27d-44d3-4ce0-aa5c-f5c16e3141b6, collection_id=c-d61804ee-12e5-4bcc-be64-b78b62429e8c, stream_url=https://stream.videodb.io/v3/published/manifests/238764af-31f3-4ea4-8b6b-8af5db99abbf.m3u8, player_url=https://console.videodb.io/player?url=https://stream.videodb.io/v3/published/manifests/238764af-31f3-4ea4-8b6b-8af5db99abbf.m3u8, name=How to Achieve More While Working Less, description=None, thumbnail_url=None, length=1046.801995),\n",
              " Video(id=m-63e0fbd4-4f39-4987-8085-eb3f4f9820e6, collection_id=c-d61804ee-12e5-4bcc-be64-b78b62429e8c, stream_url=https://stream.videodb.io/v3/published/manifests/14d332fe-1172-4a90-ba9c-d4f7e668a42a.m3u8, player_url=https://console.videodb.io/player?url=https://stream.videodb.io/v3/published/manifests/14d332fe-1172-4a90-ba9c-d4f7e668a42a.m3u8, name=How to Build Willpower | David Goggins & Dr. Andrew Huberman, description=None, thumbnail_url=None, length=793.936689),\n",
              " Video(id=m-6b895755-a7b1-4435-bd45-46c3148ce0c3, collection_id=c-d61804ee-12e5-4bcc-be64-b78b62429e8c, stream_url=https://stream.videodb.io/v3/published/manifests/6f1ec181-1f1c-4650-a9c5-90422c6c47c8.m3u8, player_url=https://console.videodb.io/player?url=https://stream.videodb.io/v3/published/manifests/6f1ec181-1f1c-4650-a9c5-90422c6c47c8.m3u8, name=How to Achieve More While Working Less, description=None, thumbnail_url=None, length=1046.801995),\n",
              " Video(id=m-7c1db53d-5ee4-47c0-a62c-290bd7000198, collection_id=c-d61804ee-12e5-4bcc-be64-b78b62429e8c, stream_url=https://stream.videodb.io/v3/published/manifests/d8c0b1c3-319a-4c1d-8c4f-779426d0e21e.m3u8, player_url=https://console.videodb.io/player?url=https://stream.videodb.io/v3/published/manifests/d8c0b1c3-319a-4c1d-8c4f-779426d0e21e.m3u8, name=How to Build Willpower | David Goggins & Dr. Andrew Huberman, description=None, thumbnail_url=None, length=793.936689),\n",
              " Video(id=m-d286c47a-80bd-4a28-ae77-1d23377da145, collection_id=c-d61804ee-12e5-4bcc-be64-b78b62429e8c, stream_url=https://stream.videodb.io/v3/published/manifests/ddfd2748-9cbc-4ade-a151-43fd0024730d.m3u8, player_url=https://console.videodb.io/player?url=https://stream.videodb.io/v3/published/manifests/ddfd2748-9cbc-4ade-a151-43fd0024730d.m3u8, name=How Nebula Works, description=None, thumbnail_url=None, length=1205.254966),\n",
              " Video(id=m-f7fe70b4-5345-41c5-b6d4-693a74fe4464, collection_id=c-d61804ee-12e5-4bcc-be64-b78b62429e8c, stream_url=https://stream.videodb.io/v3/published/manifests/aaf985f6-6545-4761-a513-729372528d96.m3u8, player_url=https://console.videodb.io/player?url=https://stream.videodb.io/v3/published/manifests/aaf985f6-6545-4761-a513-729372528d96.m3u8, name=How Nebula Works, description=None, thumbnail_url=None, length=1205.254966)]"
            ]
          },
          "metadata": {},
          "execution_count": 16
        }
      ]
    },
    {
      "cell_type": "code",
      "source": [
        "print(vid1.id)"
      ],
      "metadata": {
        "colab": {
          "base_uri": "https://localhost:8080/"
        },
        "id": "06G6UeE9XMFt",
        "outputId": "a5972ec6-432c-4cc5-c8cc-85188086dab4"
      },
      "execution_count": 18,
      "outputs": [
        {
          "output_type": "stream",
          "name": "stdout",
          "text": [
            "m-d286c47a-80bd-4a28-ae77-1d23377da145\n"
          ]
        }
      ]
    },
    {
      "cell_type": "code",
      "source": [
        "coll.delete_video(\"m-d286c47a-80bd-4a28-ae77-1d23377da145\")"
      ],
      "metadata": {
        "id": "pfJqW14atPpH",
        "outputId": "abc16413-aa68-42b6-fdea-4e65bfe1b979",
        "colab": {
          "base_uri": "https://localhost:8080/"
        }
      },
      "execution_count": 19,
      "outputs": [
        {
          "output_type": "execute_result",
          "data": {
            "text/plain": [
              "{}"
            ]
          },
          "metadata": {},
          "execution_count": 19
        }
      ]
    },
    {
      "cell_type": "code",
      "source": [
        "coll.get_videos()"
      ],
      "metadata": {
        "colab": {
          "base_uri": "https://localhost:8080/"
        },
        "id": "9AFJHvWTc0iJ",
        "outputId": "e5d5c912-e878-4011-e9eb-c7e335fc5fff"
      },
      "execution_count": 21,
      "outputs": [
        {
          "output_type": "execute_result",
          "data": {
            "text/plain": [
              "[Video(id=m-173958b7-0c9c-4c04-923f-8047227f46d3, collection_id=c-d61804ee-12e5-4bcc-be64-b78b62429e8c, stream_url=https://stream.videodb.io/v3/published/manifests/d2f5b415-966d-4ac9-b872-43842ab49406.m3u8, player_url=https://console.videodb.io/player?url=https://stream.videodb.io/v3/published/manifests/d2f5b415-966d-4ac9-b872-43842ab49406.m3u8, name=How to Feel Energized & Sleep Better With One Morning Activity | Dr. Andrew Huberman, description=None, thumbnail_url=None, length=391.929615),\n",
              " Video(id=m-317bd27d-44d3-4ce0-aa5c-f5c16e3141b6, collection_id=c-d61804ee-12e5-4bcc-be64-b78b62429e8c, stream_url=https://stream.videodb.io/v3/published/manifests/238764af-31f3-4ea4-8b6b-8af5db99abbf.m3u8, player_url=https://console.videodb.io/player?url=https://stream.videodb.io/v3/published/manifests/238764af-31f3-4ea4-8b6b-8af5db99abbf.m3u8, name=How to Achieve More While Working Less, description=None, thumbnail_url=None, length=1046.801995),\n",
              " Video(id=m-63e0fbd4-4f39-4987-8085-eb3f4f9820e6, collection_id=c-d61804ee-12e5-4bcc-be64-b78b62429e8c, stream_url=https://stream.videodb.io/v3/published/manifests/14d332fe-1172-4a90-ba9c-d4f7e668a42a.m3u8, player_url=https://console.videodb.io/player?url=https://stream.videodb.io/v3/published/manifests/14d332fe-1172-4a90-ba9c-d4f7e668a42a.m3u8, name=How to Build Willpower | David Goggins & Dr. Andrew Huberman, description=None, thumbnail_url=None, length=793.936689),\n",
              " Video(id=m-6b895755-a7b1-4435-bd45-46c3148ce0c3, collection_id=c-d61804ee-12e5-4bcc-be64-b78b62429e8c, stream_url=https://stream.videodb.io/v3/published/manifests/6f1ec181-1f1c-4650-a9c5-90422c6c47c8.m3u8, player_url=https://console.videodb.io/player?url=https://stream.videodb.io/v3/published/manifests/6f1ec181-1f1c-4650-a9c5-90422c6c47c8.m3u8, name=How to Achieve More While Working Less, description=None, thumbnail_url=None, length=1046.801995),\n",
              " Video(id=m-7c1db53d-5ee4-47c0-a62c-290bd7000198, collection_id=c-d61804ee-12e5-4bcc-be64-b78b62429e8c, stream_url=https://stream.videodb.io/v3/published/manifests/d8c0b1c3-319a-4c1d-8c4f-779426d0e21e.m3u8, player_url=https://console.videodb.io/player?url=https://stream.videodb.io/v3/published/manifests/d8c0b1c3-319a-4c1d-8c4f-779426d0e21e.m3u8, name=How to Build Willpower | David Goggins & Dr. Andrew Huberman, description=None, thumbnail_url=None, length=793.936689),\n",
              " Video(id=m-f7fe70b4-5345-41c5-b6d4-693a74fe4464, collection_id=c-d61804ee-12e5-4bcc-be64-b78b62429e8c, stream_url=https://stream.videodb.io/v3/published/manifests/aaf985f6-6545-4761-a513-729372528d96.m3u8, player_url=https://console.videodb.io/player?url=https://stream.videodb.io/v3/published/manifests/aaf985f6-6545-4761-a513-729372528d96.m3u8, name=How Nebula Works, description=None, thumbnail_url=None, length=1205.254966)]"
            ]
          },
          "metadata": {},
          "execution_count": 21
        }
      ]
    },
    {
      "cell_type": "markdown",
      "metadata": {
        "id": "2hx5uPCg7U_T"
      },
      "source": [
        "<div style=\"height:15px;\"></div>\n",
        "\n",
        "##### 📂 Search on Multiple Videos from a collection\n",
        "\n",
        "You can simply Index all the videos in a collection and use search method on collection to find relevant results.   \n",
        "Here we are indexing spoken content of a collection and searching\n",
        "\n",
        "<div style=\"background-color: #ffffcc; color: black; padding: 10px; border-radius: 5px;\">\n",
        "    <strong>Note:</strong>Index may take time for longer videos</div>"
      ]
    },
    {
      "cell_type": "code",
      "execution_count": 23,
      "metadata": {
        "id": "zrOCFaPu7U_T",
        "outputId": "102edc3c-c1a4-42b8-9202-4242ffe3c616",
        "colab": {
          "base_uri": "https://localhost:8080/"
        }
      },
      "outputs": [
        {
          "output_type": "stream",
          "name": "stderr",
          "text": [
            "100%|████████████████████████████████████████████████████████████████████████████████████████████████████| 100/100 [01:14<00:00,  1.35it/s]\n"
          ]
        },
        {
          "output_type": "stream",
          "name": "stdout",
          "text": [
            "Indexed How to Achieve More While Working Less\n"
          ]
        },
        {
          "output_type": "stream",
          "name": "stderr",
          "text": [
            "100%|████████████████████████████████████████████████████████████████████████████████████████████████████| 100/100 [00:33<00:00,  2.99it/s]\n"
          ]
        },
        {
          "output_type": "stream",
          "name": "stdout",
          "text": [
            "Indexed How to Build Willpower | David Goggins & Dr. Andrew Huberman\n"
          ]
        },
        {
          "output_type": "stream",
          "name": "stderr",
          "text": [
            "100%|████████████████████████████████████████████████████████████████████████████████████████████████████| 100/100 [00:27<00:00,  3.60it/s]\n"
          ]
        },
        {
          "output_type": "stream",
          "name": "stdout",
          "text": [
            "Indexed How to Feel Energized & Sleep Better With One Morning Activity | Dr. Andrew Huberman\n"
          ]
        }
      ],
      "source": [
        "for video in [vid2, vid3, vid4]:\n",
        "    video.index_spoken_words()\n",
        "    print(f\"Indexed {video.name}\")"
      ]
    },
    {
      "cell_type": "markdown",
      "metadata": {
        "id": "_NhZ9LI27U_U"
      },
      "source": [
        "**Searching Inside Collection** :   \n",
        "  \n",
        "Search can peformed on collection using `coll.search()`"
      ]
    },
    {
      "cell_type": "code",
      "execution_count": 24,
      "metadata": {
        "id": "1aBGGSGG7U_U",
        "outputId": "51ec78db-e842-482d-ffb8-0a0dba476c4a",
        "colab": {
          "base_uri": "https://localhost:8080/",
          "height": 421
        }
      },
      "outputs": [
        {
          "output_type": "execute_result",
          "data": {
            "text/plain": [
              "<IPython.lib.display.IFrame at 0x78463a6fb1c0>"
            ],
            "text/html": [
              "\n",
              "        <iframe\n",
              "            width=\"800\"\n",
              "            height=\"400\"\n",
              "            src=\"https://console.videodb.io/player?url=https://stream.videodb.io/v3/published/manifests/ade3b79b-0e80-4237-99bc-cf7d93c65e9b.m3u8\"\n",
              "            frameborder=\"0\"\n",
              "            allowfullscreen\n",
              "            \n",
              "        ></iframe>\n",
              "        "
            ]
          },
          "metadata": {},
          "execution_count": 24
        }
      ],
      "source": [
        "results = coll.search(query= \"what is cookie monster?\")\n",
        "results.play()"
      ]
    },
    {
      "cell_type": "code",
      "execution_count": 25,
      "metadata": {
        "id": "ONKXZEw07U_U",
        "outputId": "5e7c59f5-a5be-482c-c67d-bad604321515",
        "colab": {
          "base_uri": "https://localhost:8080/",
          "height": 421
        }
      },
      "outputs": [
        {
          "output_type": "execute_result",
          "data": {
            "text/plain": [
              "<IPython.lib.display.IFrame at 0x78463a6fa770>"
            ],
            "text/html": [
              "\n",
              "        <iframe\n",
              "            width=\"800\"\n",
              "            height=\"400\"\n",
              "            src=\"https://console.videodb.io/player?url=https://stream.videodb.io/v3/published/manifests/b422c759-90b3-4fc5-887d-3f0e26ae809e.m3u8\"\n",
              "            frameborder=\"0\"\n",
              "            allowfullscreen\n",
              "            \n",
              "        ></iframe>\n",
              "        "
            ]
          },
          "metadata": {},
          "execution_count": 25
        }
      ],
      "source": [
        "results = coll.search(query= \"What are the secrets of feel good productivity?\")\n",
        "results.play()"
      ]
    },
    {
      "cell_type": "markdown",
      "metadata": {
        "id": "mk8mghdk7U_U"
      },
      "source": [
        "##### 📺 Viewing Search Results :\n",
        "\n",
        "`video.search()` will return a SearchResults object, which contains the sections/shots of videos which semantically match your search query\n",
        "\n",
        "* `result.get_shots()` - Returns a list of Shot that matched search query\n",
        "* `result.play()`  - This will open the video in your default browser/notebook"
      ]
    },
    {
      "cell_type": "markdown",
      "metadata": {
        "id": "JqqIXT2A7U_U"
      },
      "source": [
        "<div style=\"background-color: #ffffcc; color: black; padding: 10px; border-radius: 5px;\">\n",
        "As you can see VideoDB fundamentally removes the limitation of files and gives you power to access and stream videos in a very seamless way. Stay tuned for exciting features in our upcoming version and keep building awesome stuff with VideoDB 🤘\n",
        "</div>"
      ]
    },
    {
      "cell_type": "markdown",
      "metadata": {
        "id": "jxw-stJU7U_U"
      },
      "source": [
        "### 🌟 Explore more with Video object\n",
        "There are multiple methods available on a Video Object, that can be helpful for your use-case."
      ]
    },
    {
      "cell_type": "markdown",
      "metadata": {
        "id": "u9Bcekg17U_U"
      },
      "source": [
        "##### Access Transcript"
      ]
    },
    {
      "cell_type": "code",
      "execution_count": 30,
      "metadata": {
        "id": "et4Jb4dt7U_U",
        "outputId": "a8d3c858-2da7-4ab8-d980-7e8e4f3449ca",
        "colab": {
          "base_uri": "https://localhost:8080/"
        }
      },
      "outputs": [
        {
          "output_type": "stream",
          "name": "stdout",
          "text": [
            "Merry Christmas, Sally try not to kill anyone. With these words my consultant to breezily hung up the phone leaving me to handle an entire world of patients alone. I was in Utica lafai to Junior doctor and three weeks previously had made a rookie error forget to fill out a form to request the holidays off now here I was managing a hospital Ward on my own on Christmas Day things that started badly and I was confronted by the first emergency. A man is 53 collapsed from a severe cardiac arrest and then he needed a manual evacuation if you know, you know at 10:30 a.m. I looked around the world Miss Janice was sprinting up-and-down career away in a panic on Corridor be a stubborn elderly patient was loudly demanding his misplaced anxious. Coral Sea have been taken over by a drunken Exile from the emergency department housing olive olive. I haven't gone to all that was every minute. Somebody was making a new tomorrow early. Can you check on this is a fever. Can you help with miss a thing with elevated potassium found myself starting to panic Medical School hadn't prepared me for anything like that until then. I've always been quite an effective student whenever the going got tough must try to do a simple work harder. It was a message that it got me into Medical School 70s previously. It had allowed me to secure a handful of Publications in academic journals. It even allowed me to launch a business while I studied discipline with the only productivity system on you and it worked. Except now it wasn't working. Installing at the doctor a few months previously. I felt like I was drowning even when Listen to the night. I couldn't see the number of patients will finish the paperwork that I needed to my mood was suffering too. I enjoyed my medical training to be a doctor, but I was finding the actual job at Ali depressing constantly worrying that I might make a mistake that would kill someone. I stopped sleeping friendship faded my family still caring for me and I just kept working harder and now this Christmas day alone on a Hostess reward failing to get through my shift. Everything came to a head one a drop the tray of medical supplies. I'd like the Lord looks down on my damn scrubs. I realized I had to figure things out on my dream of becoming a surgeon would slip through my fingers that night. So I hung up my stethoscope grabbed a mince pie and open my laptop at once been so productive. I thought what have I forgotten during my first year of medical school and become obsessed with a secret activity. I stayed up. Delta nights making notes on hundreds of Articles blog post in videos promising the key to Optimal Performance. Do the guru's emphasized the importance of hotslogs a Muhammad Ali quote came up a lot. I hated every minute of training but I said don't quit suffer now and live the rest of your life as a champion as Christmas turn to boxing day. I stayed up pouring over my old notes and wondered whether that was where I was going wrong. I just need to regain my old work ethic but when I return to work the next day resolving to just do more it made no difference, even though I stayed on the board until midnight and even though I was reciting Muhammad Ali's line to myself you're in the toilet breaks. I wasn't getting through my paperwork and he's quicker at the end of my hottest day yet. I felt completely underwater and then for no way I remember some words of wisdom from a old cheese and don't talk like if the treatment isn't working. The diagnosis slowly and then all at once I started to doubt all the productivity of I sign it sold its success really require suffering. Did I have to trade my health and happiness. Well anything it would take me a few months. I was stumbling my way to Revelation but everything I've been told about success was wrong. I couldn't hustle my way to becoming a good doctor working out. It wasn't going to bring me happiness. And there was another popsicle filament one that wasn't lined with constant anxiety sleep is nice and it's concerning dependence on caffeine. I didn't have all the answers. But for the first time I can make out the beginnings of an alternative approach an approach to focus on my well-being first and use that wall being to drive my focus and motivation s an approach. I would come to refer to as feel-good productivity. the surprising secrets of feel-good productivity My obsession with productivity and let me to tack on an extra year and a psychology degree as I started putting together the pieces of field of productivity. I remember to study I've been tested on one that involved a candle a book of matches and a box of thumbtacks picture yourself with these three objects before you ask is to stick the candle the cork board on the wall so that when it's lit the candle wax word Recon to the table below if I use of puzzling over the items turning them over in your hands. Can you think of a solution? So when presented with this problem most people only consider the candle the matches at the thumbtacks but more Innovative Minds recognized the potential of the thumb tack box the ultimate solution to the puzzle involves reviewing the Thumbtack but not just as a container, but as a candle holder, this is the kind of problem. I classic test of creative thinking first developed by call. Ankara and published posthumously in 1945 and has since been used in countless studies testing everything from cognitive flexibility to the psychological Fallout of stress in the late 1970s psychologist, Alice. I used it as the basis for an influential experiment to study how mood affects people's creativity eyes and began by dividing of volunteers into two groups one group was given a small gift a bag of candy before facing the kind of problem the other group started the talk with no such incentive the theory went that those who were given the sweets would have a more positive mood when they try to solve the puzzle. I think I found something interesting those whose moods. The improved by the gift was significantly more successful in solving the candle problem. When I first read about ice and experiment during my psychology degree. I found it interesting but not exactly transformative. I've never felt overwhelming urge to stick a candle to a wall. But coming back to it as a junior doctor. I realize that I since inside was quite profound and suggested the feeling good doesn't just end with feeling good. It actually changes the patterns of thought and behavior. I know the times for the study had become the Cornerstone of a wave of research exploring the weight positive emotions affect many of a cognitive processes. It showed that when we're in a positive mood we tend to consider a broader range of actions be more open to new experiences and better integrate the information we receive another was feeling good through style creativity and productivity one of the first people to explore how exactly does wax was Barbara Fredrickson a professor at the University of North Carolina at Chapel Hill Frederickson is one of the leading figures in positive psychology a relatively new branch of psychology that focuses of understanding and promoting happiness in the late 1990s Frederickson proposed what she called. Broaden and build theory of positive emotions, according to the theory positive emotions broaden our awareness and build a cognitive and social resources broaden refers to the immediate effect of positive emotions. When was feeling good a Minds open up we take in more information and we seen will possibilities around us consider the candle problem in a positive mood participants were able to see a broader range of potential Solutions build refers to the long-term effects of positive emotions. When we experience positive emotions, we build up a reservoir of mental and emotional resources that can help us in the future resources, like resilience creativity problem-solving skills, social connections and physical health of the time these two processes reinforce each other creating an upward spiral of positivity growth and success the series That's the whole new way of understanding the role of positive emotions in a life and not just freezing feelings that come and go without Consequence the integral to a cognitive functioning of social relationships and our overall well-being positive emotions of the fuel that drives the engine of human flourishing why I feel good productivity works when I first started learning about broadening build. I caught a glimpse of a different way of thinking about my life. But yes, I thought that by simply hustling harder I could achieve the things I wanted if I wanted to be a good doctor the life ahead of me would be defined by grinding unrelenting work. Now, I could see another way frederickson's Theory suggests the post of emotions change the way of brains upright Step One is feeling better step two is doing more warm us to us, but why I wanted the more I read it the more I realize that the explanations of varied. Some cases remain unclear but scientists have started to home in on a few Oz first feeling good Boost energy. Most of us have felt an energy that's not strictly physical or biological one. That doesn't come from Chicago, How do I get from a mix of motivation focus and inspiration. It's the energy you feel when you working on a particularly engrossing task when you're surrounded by inspiring people. This energy has many different names. It's been labeled as emotional spiritual mental or motivational energy by psychologists zest Vitality or energetic arousal by neuroscientist. But if research is Connor Green, what's the name it there a great that it makes us focused inspired and motivated to the seawall goals. So what's the source of this mysterious energy the short answer feeling good positive emotions are bound up with a set of four humans and dolphins. Serotonin dopamine and oxytocin are often labeled as a feel-good hormones all of them allow us to accomplish more and dolphins are often released during physical activity stress or pain and bring about feelings of happiness and diminished discomfort and elevated levels. Usually correlate with increased energy and motivation serotonin is connected to mood regulation sleep appetite and overall feelings of well-being it on the pens our sense of contentment and gives us the energy to Taco task sufficiently reward is linked with motivation and pleasure and its release provides a satisfaction that allows us to focus longer oxytocin known as the love hormone is associated with social bonding trust and relationship-building which enhances our capacity to connect with others and in turn impact of productivity. This means that these feel-good hormones are Starting point of a virtuous cycle when we feel good. We generate energy which boost the productivity and this productivity leads to feelings which even which make us feel good all over again s feeling good reduces of stress in addition to the broaden and build Theory Barbara Frederick's and also developed a psychologist Cola the undoing hypothesis frederiksen and colleagues were interested in decades of research showing the negative for the release of stress hormones, like adrenaline and cortisol. This isn't a problem in the short time that the mechanism that motivates us to run from danger. But if we experienced these negative Sensations, too often, we become riddled with anxiety kind of physical health suffers The Continuous activation of these woman's can even increase the risk of developing heart disease and high blood pressure not ideal Frederickson wondered about the flip side if negative emotions have been some political effects. Pacific Oceans cover busting my feeling-good reset the nervous system in for the body into a more relaxed state to test this out Frederickson came up with a rata mean study research has told a group of people that they had one minute to prepare a public speech that would be filmed and judge by that pierce knowing that the fear of public speaking is practically Universal Frederickson hypothesize that this would Elevate the subject levels of anxiety and stress and people reported feeling more anxious and experienced increases in heart rate and blood pressure next to the researchers randomly assigned participants to watch one of four films to evoking multi positive emotions aside beautiful ones and the full sad ones and they've been measured how long it took the participants to recover from the stress. The findings were intriguing the participants who watched the positive emotion films to significantly less time to return. Baseline state in terms of heart rate and blood pressure and those who watched the sadness evoking filming took the longest time to return to Baseline. This is the undoing hypothesis that post of emotions can undo the effects of stress and other negative emotion. It stresses the problem than feeling good might just be the solution but the final and perhaps most transformative implication of field of productivity goes well beyond any want a school project feeling good in riches your life in 2005 a team of psychologists read all the stories. They can find on the complex relationship between happiness and success. They delve into 225 published papers, which involve data from over two hundred and seventy-five thousand individuals that question does success as we're often told make us happier, or could it be the other way around the study of it. Evidence that we tend to get happiness wrong individuals who frequently experience positive emotions on just more sociable optimistic and creative. They also accomplished more these people bring an infectious energy to their environment proving more likely to enjoy fulfilling relationships get higher salaries and fruity shine in their professional lives. Does you cultivate positive emotions at work morph into a better problem solvers plan has great thinkers and Brazilians go guesses the less trust attract higher valuations from the superior and show a higher degree of loyalty to their organizations, but simply success doesn't lead to Feeling Good Feeling Good leads to success. how to use this audiobook Backing up first heroin year is Doctor. Most of these discoveries were still years ahead of me. I was working endless shifts and trying to shoehorn my productivity Research into the fleeting brake switch. Visiting patients, but even the basic insides I am covered or enough to pull the dramatic change in my relationship with work when I saw it to let go of my obsession with discipline and focus instead on making work feel-good by Aretha shift started to get easier soon my mood started to improve to I remember one appointment with an elderly patient a few months after I discovered feel good productivity. You know. She said you're the first one in here who has smiled all week. This New Perspectives wouldn't just alter my approach to being a doctor. It would alter the direction of my life all together for the first time in years. I began to see the opportunities beyond the confines of my what my friendships my family and the other passions that side light and I soon found myself wanting to share my Discovery for a few years. I've been running a G-tube channel on which I posted study tips and Technology reviews. Go to Charing practical insights that I've learned from Psychology and Neuroscience using myself as a guinea-pig experimenting with everything. I learned and the stress. Geez, I thought might work as my rightful notion that success doesn't have to be tight is suffering Souls gained traction. I started to get more and more emails from my View High School students as their exams business owners have doubled their income parents managed to balance work and family life Elsa all by applying this message is I was sharing even seasoned professionals worn out from the grind of corporate life. What is covering fresh energy motivation and a new Direction and so was I the more I read the Moon by Phyllis to be developed eventually, but following the same principles and strategy that was learning about I realized that I wanted to take a break from Edison to piss you something new. That's when I knew I had to write this book was contained in this audiobook isn't just another productivity system to help you get more. Any cost it's about doing more of what matters to you. It'll help you learn more about yourself what you love and what really motivates you my method has three pots Each of which tackle the different aspect of feel-good productivity hot one explains how to use the science of field of productivity to energize yourself and introduces the three energizes that underpin positive emotions play power and people and explains how to integrate them into your daily life next to examines her feel good protiviti can help us overcome procrastination. You'll learn about the three blockers that make us feel less uncertainty fear and inertia and how to overcome them. When you remove the block has you won't just overcome procrastination. You'll feel better, too. Finally in POP3 what explorer have fielded productivity can sustain us in the long-term will delve into the three different types of burnout? Overexertion burnout depletion burnout and a misalignment Bennett and I'll explain how we can harness three simple sustain us conserve recharge and aligned to make us feel better. Not just for days and weeks but the months in years every type that contains its fair share of practical tips, but my goal in this book isn't to offer you some sprawling to do that is to offer you a philosophy a new way of thinking about productivity. You can apply to your old life in your own way. My hope is that you leave this book an amateur productivity scientist at finding some methods at work discarding others and working Saturday to see what helps you feel good and its people That's why every job that contains not only 3 simple science project ideas that you can use to rethink productivity, but also 6 experiments that you can Implement in your own life if an experiment works for you. If it doesn't the nut to is a helpful insight by the end of the book though, you should have a toolkit for applying feel-good productivity to your own work relationships and life. I only hope it works as well for you as it has to because if there's one thing I've learned by immersing myself in the science of feel the productivity. It's that it applies in every sphere it turn the daunting tasks into engaging challenges at least the deepest connections with peer Drive meaningful interactions in what you do everyday. But understanding and applying what makes you feel good. You won't just transform to work. You'll transform your life field a productivity is a simple method but it changes everything. It shows that if you've ever felt underwater, you don't have to settle for staying afloat. You can learn how to swim. Let's Ivan.\n"
          ]
        }
      ],
      "source": [
        "# words with timestamps\n",
        "text_json = vid2.get_transcript()\n",
        "text = vid2.get_transcript_text()\n",
        "print(text)"
      ]
    },
    {
      "cell_type": "markdown",
      "metadata": {
        "id": "mTTIwIBw7U_U"
      },
      "source": [
        "##### Add Subtitle to a video\n",
        "It returns a new stream instantly with subtitle added into the video."
      ]
    },
    {
      "cell_type": "code",
      "execution_count": 31,
      "metadata": {
        "id": "VEJGg1_J7U_U",
        "outputId": "c0d5b234-3c6c-43e2-81d8-f2aecde2ce78",
        "colab": {
          "base_uri": "https://localhost:8080/",
          "height": 421
        }
      },
      "outputs": [
        {
          "output_type": "execute_result",
          "data": {
            "text/plain": [
              "<IPython.lib.display.IFrame at 0x78463a6faa40>"
            ],
            "text/html": [
              "\n",
              "        <iframe\n",
              "            width=\"800\"\n",
              "            height=\"400\"\n",
              "            src=\"https://console.videodb.io/player?url=https://stream.videodb.io/v3/published/manifests/11e34f47-0d44-4557-8ec0-3a74c1feafc1.m3u8\"\n",
              "            frameborder=\"0\"\n",
              "            allowfullscreen\n",
              "            \n",
              "        ></iframe>\n",
              "        "
            ]
          },
          "metadata": {},
          "execution_count": 31
        }
      ],
      "source": [
        "new_stream = vid2.add_subtitle()\n",
        "play_stream(new_stream)"
      ]
    },
    {
      "cell_type": "markdown",
      "metadata": {
        "id": "O38dkoqY7U_U"
      },
      "source": [
        "In upcoming versions, VideoDB would support subtitle in multiple languages and more options to style your subtitles."
      ]
    },
    {
      "cell_type": "markdown",
      "metadata": {
        "id": "H-yZZc0X7U_X"
      },
      "source": [
        "##### Generate Thumbnail of Video :\n",
        "\n",
        "You can use `video.generate_thumbnail()` to generate a thumbnail image of video."
      ]
    },
    {
      "cell_type": "code",
      "execution_count": 33,
      "metadata": {
        "id": "rAzonA0r7U_X",
        "outputId": "9a0e85c6-6468-41bb-b817-d8dffb3ab1ee",
        "colab": {
          "base_uri": "https://localhost:8080/",
          "height": 381
        }
      },
      "outputs": [
        {
          "output_type": "execute_result",
          "data": {
            "text/html": [
              "<img src=\"https://storage.videodb.io/public/m-6b895755-a7b1-4435-bd45-46c3148ce0c3/59741b37-3566-4e28-b9f3-ef2c9e7cfa92.jpg\"/>"
            ],
            "text/plain": [
              "<IPython.core.display.Image object>"
            ]
          },
          "metadata": {},
          "execution_count": 33
        }
      ],
      "source": [
        "from IPython.display import Image\n",
        "\n",
        "thumbnail_url = vid2.generate_thumbnail()\n",
        "Image(url=thumbnail_url)"
      ]
    },
    {
      "cell_type": "markdown",
      "metadata": {
        "id": "Uk4SvH6w7U_X"
      },
      "source": [
        "##### Delete a video :\n",
        "\n",
        "* `video.delete()` :deletes a video."
      ]
    },
    {
      "cell_type": "code",
      "execution_count": 29,
      "metadata": {
        "id": "BFs9NYoo7U_X"
      },
      "outputs": [],
      "source": [
        "video.delete()"
      ]
    },
    {
      "cell_type": "markdown",
      "metadata": {
        "id": "wGrOgBdg7U_X"
      },
      "source": [
        "\n",
        "<div style=\"background-color: #ffffcc; color: black; padding: 10px; border-radius: 5px;\">\n",
        "Checkout more examples and tutorials 👉 <a href=\"https://docs.videodb.io/build-with-videodb-35\"> Build with VideoDB </a> to explore what you can build with VideoDB\n",
        "</div>"
      ]
    }
  ],
  "metadata": {
    "kernelspec": {
      "display_name": "venv",
      "language": "python",
      "name": "python3"
    },
    "language_info": {
      "codemirror_mode": {
        "name": "ipython",
        "version": 3
      },
      "file_extension": ".py",
      "mimetype": "text/x-python",
      "name": "python",
      "nbconvert_exporter": "python",
      "pygments_lexer": "ipython3",
      "version": "3.9.12"
    },
    "colab": {
      "provenance": [],
      "toc_visible": true,
      "include_colab_link": true
    }
  },
  "nbformat": 4,
  "nbformat_minor": 0
}